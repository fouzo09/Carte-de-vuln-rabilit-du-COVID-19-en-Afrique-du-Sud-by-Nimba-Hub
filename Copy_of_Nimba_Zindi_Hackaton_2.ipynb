{
 "cells": [
  {
   "cell_type": "code",
   "execution_count": 66,
   "metadata": {},
   "outputs": [
    {
     "name": "stdout",
     "output_type": "stream",
     "text": [
      "Defaulting to user installation because normal site-packages is not writeable\n",
      "Requirement already satisfied: catboost in /home/fouzo/.local/lib/python3.8/site-packages (0.24.3)\n",
      "Requirement already satisfied: matplotlib in /home/fouzo/.local/lib/python3.8/site-packages (from catboost) (3.3.2)\n",
      "Requirement already satisfied: scipy in /home/fouzo/.local/lib/python3.8/site-packages (from catboost) (1.5.2)\n",
      "Requirement already satisfied: pandas>=0.24.0 in /home/fouzo/.local/lib/python3.8/site-packages (from catboost) (1.1.3)\n",
      "Requirement already satisfied: graphviz in /home/fouzo/.local/lib/python3.8/site-packages (from catboost) (0.15)\n",
      "Requirement already satisfied: six in /usr/lib/python3/dist-packages (from catboost) (1.14.0)\n",
      "Requirement already satisfied: numpy>=1.16.0 in /home/fouzo/.local/lib/python3.8/site-packages (from catboost) (1.19.2)\n",
      "Requirement already satisfied: plotly in /home/fouzo/.local/lib/python3.8/site-packages (from catboost) (4.14.1)\n",
      "Requirement already satisfied: python-dateutil>=2.1 in /usr/lib/python3/dist-packages (from matplotlib->catboost) (2.7.3)\n",
      "Requirement already satisfied: pyparsing!=2.0.4,!=2.1.2,!=2.1.6,>=2.0.3 in /home/fouzo/.local/lib/python3.8/site-packages (from matplotlib->catboost) (2.4.7)\n",
      "Requirement already satisfied: kiwisolver>=1.0.1 in /home/fouzo/.local/lib/python3.8/site-packages (from matplotlib->catboost) (1.2.0)\n",
      "Requirement already satisfied: certifi>=2020.06.20 in /home/fouzo/.local/lib/python3.8/site-packages (from matplotlib->catboost) (2020.6.20)\n",
      "Requirement already satisfied: pillow>=6.2.0 in /home/fouzo/.local/lib/python3.8/site-packages (from matplotlib->catboost) (8.0.0)\n",
      "Requirement already satisfied: cycler>=0.10 in /home/fouzo/.local/lib/python3.8/site-packages (from matplotlib->catboost) (0.10.0)\n",
      "Requirement already satisfied: pytz>=2017.2 in /home/fouzo/.local/lib/python3.8/site-packages (from pandas>=0.24.0->catboost) (2020.1)\n",
      "Requirement already satisfied: retrying>=1.3.3 in /home/fouzo/.local/lib/python3.8/site-packages (from plotly->catboost) (1.3.3)\n",
      "\u001b[33mWARNING: You are using pip version 20.2.3; however, version 20.3.1 is available.\n",
      "You should consider upgrading via the '/usr/bin/python3 -m pip install --upgrade pip' command.\u001b[0m\n"
     ]
    }
   ],
   "source": [
    "!pip install catboost"
   ]
  },
  {
   "cell_type": "code",
   "execution_count": 80,
   "metadata": {},
   "outputs": [
    {
     "name": "stdout",
     "output_type": "stream",
     "text": [
      "Defaulting to user installation because normal site-packages is not writeable\n",
      "Requirement already satisfied: xgboost in /home/fouzo/.local/lib/python3.8/site-packages (1.3.0.post0)\n",
      "Requirement already satisfied: scipy in /home/fouzo/.local/lib/python3.8/site-packages (from xgboost) (1.5.2)\n",
      "Requirement already satisfied: numpy in /home/fouzo/.local/lib/python3.8/site-packages (from xgboost) (1.19.2)\n",
      "\u001b[33mWARNING: You are using pip version 20.2.3; however, version 20.3.1 is available.\n",
      "You should consider upgrading via the '/usr/bin/python3 -m pip install --upgrade pip' command.\u001b[0m\n"
     ]
    }
   ],
   "source": [
    "!pip install xgboost"
   ]
  },
  {
   "cell_type": "code",
   "execution_count": 83,
   "metadata": {},
   "outputs": [],
   "source": [
    "import pandas as pd\n",
    "import numpy as np\n",
    "import os \n",
    "import matplotlib.pyplot as plt\n",
    "from sklearn.model_selection import train_test_split\n",
    "from sklearn.cluster import KMeans\n",
    "from xgboost import XGBRegressor\n",
    "from catboost import Pool, CatBoostRegressor, cv\n"
   ]
  },
  {
   "cell_type": "code",
   "execution_count": 12,
   "metadata": {},
   "outputs": [],
   "source": [
    "train = pd.read_csv(\"data/Train_maskedv2.csv\")\n",
    "test  = pd.read_csv(\"data/Test_maskedv2.csv\")\n",
    "sub   = pd.read_csv(\"data/samplesubmissionv2.csv\")"
   ]
  },
  {
   "cell_type": "code",
   "execution_count": 13,
   "metadata": {},
   "outputs": [
    {
     "data": {
      "text/html": [
       "<div>\n",
       "<style scoped>\n",
       "    .dataframe tbody tr th:only-of-type {\n",
       "        vertical-align: middle;\n",
       "    }\n",
       "\n",
       "    .dataframe tbody tr th {\n",
       "        vertical-align: top;\n",
       "    }\n",
       "\n",
       "    .dataframe thead th {\n",
       "        text-align: right;\n",
       "    }\n",
       "</style>\n",
       "<table border=\"1\" class=\"dataframe\">\n",
       "  <thead>\n",
       "    <tr style=\"text-align: right;\">\n",
       "      <th></th>\n",
       "      <th>ward</th>\n",
       "      <th>total_households</th>\n",
       "      <th>total_individuals</th>\n",
       "      <th>target_pct_vunerable</th>\n",
       "      <th>dw_00</th>\n",
       "      <th>dw_01</th>\n",
       "      <th>dw_02</th>\n",
       "      <th>dw_03</th>\n",
       "      <th>dw_04</th>\n",
       "      <th>dw_05</th>\n",
       "      <th>...</th>\n",
       "      <th>lan_11</th>\n",
       "      <th>lan_12</th>\n",
       "      <th>lan_13</th>\n",
       "      <th>lan_14</th>\n",
       "      <th>pg_00</th>\n",
       "      <th>pg_01</th>\n",
       "      <th>pg_02</th>\n",
       "      <th>pg_03</th>\n",
       "      <th>pg_04</th>\n",
       "      <th>lgt_00</th>\n",
       "    </tr>\n",
       "  </thead>\n",
       "  <tbody>\n",
       "    <tr>\n",
       "      <th>0</th>\n",
       "      <td>9D9BEUB</td>\n",
       "      <td>13569.97801</td>\n",
       "      <td>39024.03083</td>\n",
       "      <td>1.739801</td>\n",
       "      <td>0.354806</td>\n",
       "      <td>0.004781</td>\n",
       "      <td>0.170498</td>\n",
       "      <td>0.007861</td>\n",
       "      <td>0.006796</td>\n",
       "      <td>0.023082</td>\n",
       "      <td>...</td>\n",
       "      <td>0.001723</td>\n",
       "      <td>0.027796</td>\n",
       "      <td>0</td>\n",
       "      <td>0.026727</td>\n",
       "      <td>0.524666</td>\n",
       "      <td>0.041460</td>\n",
       "      <td>0.394550</td>\n",
       "      <td>0.029031</td>\n",
       "      <td>0.010292</td>\n",
       "      <td>0.599259</td>\n",
       "    </tr>\n",
       "    <tr>\n",
       "      <th>1</th>\n",
       "      <td>RERH3XM</td>\n",
       "      <td>13593.88256</td>\n",
       "      <td>32879.94646</td>\n",
       "      <td>1.993381</td>\n",
       "      <td>0.262140</td>\n",
       "      <td>0.002066</td>\n",
       "      <td>0.077669</td>\n",
       "      <td>0.000597</td>\n",
       "      <td>0.000977</td>\n",
       "      <td>0.003759</td>\n",
       "      <td>...</td>\n",
       "      <td>0.041982</td>\n",
       "      <td>0.021312</td>\n",
       "      <td>0</td>\n",
       "      <td>0.015754</td>\n",
       "      <td>0.993900</td>\n",
       "      <td>0.001829</td>\n",
       "      <td>0.000854</td>\n",
       "      <td>0.000586</td>\n",
       "      <td>0.002832</td>\n",
       "      <td>0.699136</td>\n",
       "    </tr>\n",
       "    <tr>\n",
       "      <th>2</th>\n",
       "      <td>GJWA3BO</td>\n",
       "      <td>2698.30050</td>\n",
       "      <td>8261.71093</td>\n",
       "      <td>0.038340</td>\n",
       "      <td>0.728101</td>\n",
       "      <td>0.002292</td>\n",
       "      <td>0.051663</td>\n",
       "      <td>0.008209</td>\n",
       "      <td>0.001444</td>\n",
       "      <td>0.005089</td>\n",
       "      <td>...</td>\n",
       "      <td>0.014786</td>\n",
       "      <td>0.005827</td>\n",
       "      <td>0</td>\n",
       "      <td>0.049384</td>\n",
       "      <td>0.990007</td>\n",
       "      <td>0.003582</td>\n",
       "      <td>0.002546</td>\n",
       "      <td>0.003201</td>\n",
       "      <td>0.000663</td>\n",
       "      <td>0.972315</td>\n",
       "    </tr>\n",
       "    <tr>\n",
       "      <th>3</th>\n",
       "      <td>GW6VRB7</td>\n",
       "      <td>1965.96698</td>\n",
       "      <td>9069.77694</td>\n",
       "      <td>7.411006</td>\n",
       "      <td>0.613206</td>\n",
       "      <td>0.138127</td>\n",
       "      <td>0.004999</td>\n",
       "      <td>0.002704</td>\n",
       "      <td>0.000000</td>\n",
       "      <td>0.002788</td>\n",
       "      <td>...</td>\n",
       "      <td>0.003087</td>\n",
       "      <td>0.003136</td>\n",
       "      <td>0</td>\n",
       "      <td>0.013562</td>\n",
       "      <td>0.928682</td>\n",
       "      <td>0.004464</td>\n",
       "      <td>0.009854</td>\n",
       "      <td>0.054701</td>\n",
       "      <td>0.002299</td>\n",
       "      <td>0.735333</td>\n",
       "    </tr>\n",
       "    <tr>\n",
       "      <th>4</th>\n",
       "      <td>CN9JZJC</td>\n",
       "      <td>1852.07821</td>\n",
       "      <td>9908.84404</td>\n",
       "      <td>8.223907</td>\n",
       "      <td>0.797462</td>\n",
       "      <td>0.120830</td>\n",
       "      <td>0.060677</td>\n",
       "      <td>0.001155</td>\n",
       "      <td>0.001042</td>\n",
       "      <td>0.000508</td>\n",
       "      <td>...</td>\n",
       "      <td>0.000117</td>\n",
       "      <td>0.001471</td>\n",
       "      <td>0</td>\n",
       "      <td>0.000000</td>\n",
       "      <td>0.994072</td>\n",
       "      <td>0.000476</td>\n",
       "      <td>0.004033</td>\n",
       "      <td>0.000704</td>\n",
       "      <td>0.000714</td>\n",
       "      <td>0.646964</td>\n",
       "    </tr>\n",
       "  </tbody>\n",
       "</table>\n",
       "<p>5 rows × 50 columns</p>\n",
       "</div>"
      ],
      "text/plain": [
       "      ward  total_households  total_individuals  target_pct_vunerable  \\\n",
       "0  9D9BEUB       13569.97801        39024.03083              1.739801   \n",
       "1  RERH3XM       13593.88256        32879.94646              1.993381   \n",
       "2  GJWA3BO        2698.30050         8261.71093              0.038340   \n",
       "3  GW6VRB7        1965.96698         9069.77694              7.411006   \n",
       "4  CN9JZJC        1852.07821         9908.84404              8.223907   \n",
       "\n",
       "      dw_00     dw_01     dw_02     dw_03     dw_04     dw_05  ...    lan_11  \\\n",
       "0  0.354806  0.004781  0.170498  0.007861  0.006796  0.023082  ...  0.001723   \n",
       "1  0.262140  0.002066  0.077669  0.000597  0.000977  0.003759  ...  0.041982   \n",
       "2  0.728101  0.002292  0.051663  0.008209  0.001444  0.005089  ...  0.014786   \n",
       "3  0.613206  0.138127  0.004999  0.002704  0.000000  0.002788  ...  0.003087   \n",
       "4  0.797462  0.120830  0.060677  0.001155  0.001042  0.000508  ...  0.000117   \n",
       "\n",
       "     lan_12  lan_13    lan_14     pg_00     pg_01     pg_02     pg_03  \\\n",
       "0  0.027796       0  0.026727  0.524666  0.041460  0.394550  0.029031   \n",
       "1  0.021312       0  0.015754  0.993900  0.001829  0.000854  0.000586   \n",
       "2  0.005827       0  0.049384  0.990007  0.003582  0.002546  0.003201   \n",
       "3  0.003136       0  0.013562  0.928682  0.004464  0.009854  0.054701   \n",
       "4  0.001471       0  0.000000  0.994072  0.000476  0.004033  0.000704   \n",
       "\n",
       "      pg_04    lgt_00  \n",
       "0  0.010292  0.599259  \n",
       "1  0.002832  0.699136  \n",
       "2  0.000663  0.972315  \n",
       "3  0.002299  0.735333  \n",
       "4  0.000714  0.646964  \n",
       "\n",
       "[5 rows x 50 columns]"
      ]
     },
     "execution_count": 13,
     "metadata": {},
     "output_type": "execute_result"
    }
   ],
   "source": [
    "train.head()"
   ]
  },
  {
   "cell_type": "code",
   "execution_count": 16,
   "metadata": {},
   "outputs": [
    {
     "data": {
      "text/plain": [
       "(3174, 50)"
      ]
     },
     "execution_count": 16,
     "metadata": {},
     "output_type": "execute_result"
    }
   ],
   "source": [
    "train.shape"
   ]
  },
  {
   "cell_type": "code",
   "execution_count": 14,
   "metadata": {},
   "outputs": [
    {
     "name": "stdout",
     "output_type": "stream",
     "text": [
      "<class 'pandas.core.frame.DataFrame'>\n",
      "RangeIndex: 3174 entries, 0 to 3173\n",
      "Data columns (total 50 columns):\n",
      " #   Column                Non-Null Count  Dtype  \n",
      "---  ------                --------------  -----  \n",
      " 0   ward                  3174 non-null   object \n",
      " 1   total_households      3174 non-null   float64\n",
      " 2   total_individuals     3174 non-null   float64\n",
      " 3   target_pct_vunerable  3174 non-null   float64\n",
      " 4   dw_00                 3174 non-null   float64\n",
      " 5   dw_01                 3174 non-null   float64\n",
      " 6   dw_02                 3174 non-null   float64\n",
      " 7   dw_03                 3174 non-null   float64\n",
      " 8   dw_04                 3174 non-null   float64\n",
      " 9   dw_05                 3174 non-null   float64\n",
      " 10  dw_06                 3174 non-null   float64\n",
      " 11  dw_07                 3174 non-null   float64\n",
      " 12  dw_08                 3174 non-null   float64\n",
      " 13  dw_09                 3174 non-null   float64\n",
      " 14  dw_10                 3174 non-null   float64\n",
      " 15  dw_11                 3174 non-null   float64\n",
      " 16  dw_12                 3174 non-null   int64  \n",
      " 17  dw_13                 3174 non-null   int64  \n",
      " 18  psa_00                3174 non-null   float64\n",
      " 19  psa_01                3174 non-null   float64\n",
      " 20  psa_02                3174 non-null   float64\n",
      " 21  psa_03                3174 non-null   float64\n",
      " 22  psa_04                3174 non-null   float64\n",
      " 23  stv_00                3174 non-null   float64\n",
      " 24  stv_01                3174 non-null   float64\n",
      " 25  car_00                3174 non-null   float64\n",
      " 26  car_01                3174 non-null   float64\n",
      " 27  lln_00                3174 non-null   float64\n",
      " 28  lln_01                3174 non-null   float64\n",
      " 29  lan_00                3174 non-null   float64\n",
      " 30  lan_01                3174 non-null   float64\n",
      " 31  lan_02                3174 non-null   float64\n",
      " 32  lan_03                3174 non-null   float64\n",
      " 33  lan_04                3174 non-null   float64\n",
      " 34  lan_05                3174 non-null   float64\n",
      " 35  lan_06                3174 non-null   float64\n",
      " 36  lan_07                3174 non-null   float64\n",
      " 37  lan_08                3174 non-null   float64\n",
      " 38  lan_09                3174 non-null   float64\n",
      " 39  lan_10                3174 non-null   float64\n",
      " 40  lan_11                3174 non-null   float64\n",
      " 41  lan_12                3174 non-null   float64\n",
      " 42  lan_13                3174 non-null   int64  \n",
      " 43  lan_14                3174 non-null   float64\n",
      " 44  pg_00                 3174 non-null   float64\n",
      " 45  pg_01                 3174 non-null   float64\n",
      " 46  pg_02                 3174 non-null   float64\n",
      " 47  pg_03                 3174 non-null   float64\n",
      " 48  pg_04                 3174 non-null   float64\n",
      " 49  lgt_00                3174 non-null   float64\n",
      "dtypes: float64(46), int64(3), object(1)\n",
      "memory usage: 1.2+ MB\n"
     ]
    }
   ],
   "source": [
    "train.info()"
   ]
  },
  {
   "cell_type": "code",
   "execution_count": 15,
   "metadata": {},
   "outputs": [
    {
     "data": {
      "text/html": [
       "<div>\n",
       "<style scoped>\n",
       "    .dataframe tbody tr th:only-of-type {\n",
       "        vertical-align: middle;\n",
       "    }\n",
       "\n",
       "    .dataframe tbody tr th {\n",
       "        vertical-align: top;\n",
       "    }\n",
       "\n",
       "    .dataframe thead th {\n",
       "        text-align: right;\n",
       "    }\n",
       "</style>\n",
       "<table border=\"1\" class=\"dataframe\">\n",
       "  <thead>\n",
       "    <tr style=\"text-align: right;\">\n",
       "      <th></th>\n",
       "      <th>total_households</th>\n",
       "      <th>total_individuals</th>\n",
       "      <th>target_pct_vunerable</th>\n",
       "      <th>dw_00</th>\n",
       "      <th>dw_01</th>\n",
       "      <th>dw_02</th>\n",
       "      <th>dw_03</th>\n",
       "      <th>dw_04</th>\n",
       "      <th>dw_05</th>\n",
       "      <th>dw_06</th>\n",
       "      <th>...</th>\n",
       "      <th>lan_11</th>\n",
       "      <th>lan_12</th>\n",
       "      <th>lan_13</th>\n",
       "      <th>lan_14</th>\n",
       "      <th>pg_00</th>\n",
       "      <th>pg_01</th>\n",
       "      <th>pg_02</th>\n",
       "      <th>pg_03</th>\n",
       "      <th>pg_04</th>\n",
       "      <th>lgt_00</th>\n",
       "    </tr>\n",
       "  </thead>\n",
       "  <tbody>\n",
       "    <tr>\n",
       "      <th>count</th>\n",
       "      <td>3174.000000</td>\n",
       "      <td>3174.000000</td>\n",
       "      <td>3174.000000</td>\n",
       "      <td>3174.000000</td>\n",
       "      <td>3174.000000</td>\n",
       "      <td>3174.000000</td>\n",
       "      <td>3174.000000</td>\n",
       "      <td>3174.000000</td>\n",
       "      <td>3174.000000</td>\n",
       "      <td>3174.000000</td>\n",
       "      <td>...</td>\n",
       "      <td>3174.000000</td>\n",
       "      <td>3174.000000</td>\n",
       "      <td>3174.0</td>\n",
       "      <td>3174.000000</td>\n",
       "      <td>3174.000000</td>\n",
       "      <td>3174.000000</td>\n",
       "      <td>3174.000000</td>\n",
       "      <td>3174.000000</td>\n",
       "      <td>3174.000000</td>\n",
       "      <td>3174.000000</td>\n",
       "    </tr>\n",
       "    <tr>\n",
       "      <th>mean</th>\n",
       "      <td>3429.319013</td>\n",
       "      <td>12407.679534</td>\n",
       "      <td>10.258947</td>\n",
       "      <td>0.710593</td>\n",
       "      <td>0.097372</td>\n",
       "      <td>0.031894</td>\n",
       "      <td>0.005820</td>\n",
       "      <td>0.008202</td>\n",
       "      <td>0.006047</td>\n",
       "      <td>0.022225</td>\n",
       "      <td>...</td>\n",
       "      <td>0.050327</td>\n",
       "      <td>0.012342</td>\n",
       "      <td>0.0</td>\n",
       "      <td>0.014335</td>\n",
       "      <td>0.863095</td>\n",
       "      <td>0.041924</td>\n",
       "      <td>0.017665</td>\n",
       "      <td>0.073692</td>\n",
       "      <td>0.003624</td>\n",
       "      <td>0.830599</td>\n",
       "    </tr>\n",
       "    <tr>\n",
       "      <th>std</th>\n",
       "      <td>3117.342795</td>\n",
       "      <td>9310.300318</td>\n",
       "      <td>12.847192</td>\n",
       "      <td>0.217458</td>\n",
       "      <td>0.188484</td>\n",
       "      <td>0.078634</td>\n",
       "      <td>0.018592</td>\n",
       "      <td>0.029408</td>\n",
       "      <td>0.023772</td>\n",
       "      <td>0.036762</td>\n",
       "      <td>...</td>\n",
       "      <td>0.153493</td>\n",
       "      <td>0.020594</td>\n",
       "      <td>0.0</td>\n",
       "      <td>0.041155</td>\n",
       "      <td>0.248096</td>\n",
       "      <td>0.146524</td>\n",
       "      <td>0.074607</td>\n",
       "      <td>0.169049</td>\n",
       "      <td>0.010378</td>\n",
       "      <td>0.208129</td>\n",
       "    </tr>\n",
       "    <tr>\n",
       "      <th>min</th>\n",
       "      <td>1.000000</td>\n",
       "      <td>402.000000</td>\n",
       "      <td>0.000000</td>\n",
       "      <td>0.000000</td>\n",
       "      <td>0.000000</td>\n",
       "      <td>0.000000</td>\n",
       "      <td>0.000000</td>\n",
       "      <td>0.000000</td>\n",
       "      <td>0.000000</td>\n",
       "      <td>0.000000</td>\n",
       "      <td>...</td>\n",
       "      <td>0.000000</td>\n",
       "      <td>0.000000</td>\n",
       "      <td>0.0</td>\n",
       "      <td>0.000000</td>\n",
       "      <td>0.011053</td>\n",
       "      <td>0.000000</td>\n",
       "      <td>0.000000</td>\n",
       "      <td>0.000000</td>\n",
       "      <td>0.000000</td>\n",
       "      <td>0.001692</td>\n",
       "    </tr>\n",
       "    <tr>\n",
       "      <th>25%</th>\n",
       "      <td>1668.367500</td>\n",
       "      <td>6972.024960</td>\n",
       "      <td>0.429761</td>\n",
       "      <td>0.591480</td>\n",
       "      <td>0.002919</td>\n",
       "      <td>0.002421</td>\n",
       "      <td>0.000000</td>\n",
       "      <td>0.000000</td>\n",
       "      <td>0.000000</td>\n",
       "      <td>0.002676</td>\n",
       "      <td>...</td>\n",
       "      <td>0.000453</td>\n",
       "      <td>0.002477</td>\n",
       "      <td>0.0</td>\n",
       "      <td>0.000000</td>\n",
       "      <td>0.879603</td>\n",
       "      <td>0.000960</td>\n",
       "      <td>0.000848</td>\n",
       "      <td>0.000445</td>\n",
       "      <td>0.000633</td>\n",
       "      <td>0.788085</td>\n",
       "    </tr>\n",
       "    <tr>\n",
       "      <th>50%</th>\n",
       "      <td>2263.921720</td>\n",
       "      <td>9217.504670</td>\n",
       "      <td>3.715314</td>\n",
       "      <td>0.766925</td>\n",
       "      <td>0.010649</td>\n",
       "      <td>0.005792</td>\n",
       "      <td>0.000803</td>\n",
       "      <td>0.000603</td>\n",
       "      <td>0.000813</td>\n",
       "      <td>0.008408</td>\n",
       "      <td>...</td>\n",
       "      <td>0.003092</td>\n",
       "      <td>0.006266</td>\n",
       "      <td>0.0</td>\n",
       "      <td>0.000097</td>\n",
       "      <td>0.989811</td>\n",
       "      <td>0.003088</td>\n",
       "      <td>0.001753</td>\n",
       "      <td>0.001206</td>\n",
       "      <td>0.001630</td>\n",
       "      <td>0.909446</td>\n",
       "    </tr>\n",
       "    <tr>\n",
       "      <th>75%</th>\n",
       "      <td>3681.155303</td>\n",
       "      <td>13463.543668</td>\n",
       "      <td>17.762604</td>\n",
       "      <td>0.885571</td>\n",
       "      <td>0.074650</td>\n",
       "      <td>0.028085</td>\n",
       "      <td>0.002538</td>\n",
       "      <td>0.002145</td>\n",
       "      <td>0.002921</td>\n",
       "      <td>0.025111</td>\n",
       "      <td>...</td>\n",
       "      <td>0.028330</td>\n",
       "      <td>0.013430</td>\n",
       "      <td>0.0</td>\n",
       "      <td>0.011548</td>\n",
       "      <td>0.995798</td>\n",
       "      <td>0.012419</td>\n",
       "      <td>0.004636</td>\n",
       "      <td>0.039255</td>\n",
       "      <td>0.004025</td>\n",
       "      <td>0.963780</td>\n",
       "    </tr>\n",
       "    <tr>\n",
       "      <th>max</th>\n",
       "      <td>39595.195110</td>\n",
       "      <td>91716.746370</td>\n",
       "      <td>100.000000</td>\n",
       "      <td>0.994962</td>\n",
       "      <td>0.931490</td>\n",
       "      <td>0.951806</td>\n",
       "      <td>0.264239</td>\n",
       "      <td>0.392085</td>\n",
       "      <td>0.435912</td>\n",
       "      <td>0.412936</td>\n",
       "      <td>...</td>\n",
       "      <td>0.991674</td>\n",
       "      <td>0.367785</td>\n",
       "      <td>0.0</td>\n",
       "      <td>0.998448</td>\n",
       "      <td>1.000000</td>\n",
       "      <td>0.969519</td>\n",
       "      <td>0.939564</td>\n",
       "      <td>0.940563</td>\n",
       "      <td>0.367842</td>\n",
       "      <td>1.000000</td>\n",
       "    </tr>\n",
       "  </tbody>\n",
       "</table>\n",
       "<p>8 rows × 49 columns</p>\n",
       "</div>"
      ],
      "text/plain": [
       "       total_households  total_individuals  target_pct_vunerable        dw_00  \\\n",
       "count       3174.000000        3174.000000           3174.000000  3174.000000   \n",
       "mean        3429.319013       12407.679534             10.258947     0.710593   \n",
       "std         3117.342795        9310.300318             12.847192     0.217458   \n",
       "min            1.000000         402.000000              0.000000     0.000000   \n",
       "25%         1668.367500        6972.024960              0.429761     0.591480   \n",
       "50%         2263.921720        9217.504670              3.715314     0.766925   \n",
       "75%         3681.155303       13463.543668             17.762604     0.885571   \n",
       "max        39595.195110       91716.746370            100.000000     0.994962   \n",
       "\n",
       "             dw_01        dw_02        dw_03        dw_04        dw_05  \\\n",
       "count  3174.000000  3174.000000  3174.000000  3174.000000  3174.000000   \n",
       "mean      0.097372     0.031894     0.005820     0.008202     0.006047   \n",
       "std       0.188484     0.078634     0.018592     0.029408     0.023772   \n",
       "min       0.000000     0.000000     0.000000     0.000000     0.000000   \n",
       "25%       0.002919     0.002421     0.000000     0.000000     0.000000   \n",
       "50%       0.010649     0.005792     0.000803     0.000603     0.000813   \n",
       "75%       0.074650     0.028085     0.002538     0.002145     0.002921   \n",
       "max       0.931490     0.951806     0.264239     0.392085     0.435912   \n",
       "\n",
       "             dw_06  ...       lan_11       lan_12  lan_13       lan_14  \\\n",
       "count  3174.000000  ...  3174.000000  3174.000000  3174.0  3174.000000   \n",
       "mean      0.022225  ...     0.050327     0.012342     0.0     0.014335   \n",
       "std       0.036762  ...     0.153493     0.020594     0.0     0.041155   \n",
       "min       0.000000  ...     0.000000     0.000000     0.0     0.000000   \n",
       "25%       0.002676  ...     0.000453     0.002477     0.0     0.000000   \n",
       "50%       0.008408  ...     0.003092     0.006266     0.0     0.000097   \n",
       "75%       0.025111  ...     0.028330     0.013430     0.0     0.011548   \n",
       "max       0.412936  ...     0.991674     0.367785     0.0     0.998448   \n",
       "\n",
       "             pg_00        pg_01        pg_02        pg_03        pg_04  \\\n",
       "count  3174.000000  3174.000000  3174.000000  3174.000000  3174.000000   \n",
       "mean      0.863095     0.041924     0.017665     0.073692     0.003624   \n",
       "std       0.248096     0.146524     0.074607     0.169049     0.010378   \n",
       "min       0.011053     0.000000     0.000000     0.000000     0.000000   \n",
       "25%       0.879603     0.000960     0.000848     0.000445     0.000633   \n",
       "50%       0.989811     0.003088     0.001753     0.001206     0.001630   \n",
       "75%       0.995798     0.012419     0.004636     0.039255     0.004025   \n",
       "max       1.000000     0.969519     0.939564     0.940563     0.367842   \n",
       "\n",
       "            lgt_00  \n",
       "count  3174.000000  \n",
       "mean      0.830599  \n",
       "std       0.208129  \n",
       "min       0.001692  \n",
       "25%       0.788085  \n",
       "50%       0.909446  \n",
       "75%       0.963780  \n",
       "max       1.000000  \n",
       "\n",
       "[8 rows x 49 columns]"
      ]
     },
     "execution_count": 15,
     "metadata": {},
     "output_type": "execute_result"
    }
   ],
   "source": [
    "train.describe()"
   ]
  },
  {
   "cell_type": "code",
   "execution_count": 33,
   "metadata": {},
   "outputs": [
    {
     "data": {
      "image/png": "[encoded data removed]",
      "text/plain": [
       "<Figure size 432x288 with 1 Axes>"
      ]
     },
     "metadata": {
      "needs_background": "light"
     },
     "output_type": "display_data"
    },
    {
     "data": {
      "image/png": "[encoded data removed]",
      "text/plain": [
       "<Figure size 432x288 with 1 Axes>"
      ]
     },
     "metadata": {
      "needs_background": "light"
     },
     "output_type": "display_data"
    },
    {
     "data": {
      "image/png": "[encoded data removed]",
      "text/plain": [
       "<Figure size 432x288 with 1 Axes>"
      ]
     },
     "metadata": {
      "needs_background": "light"
     },
     "output_type": "display_data"
    },
    {
     "data": {
      "image/png": "[encoded data removed]",
      "text/plain": [
       "<Figure size 432x288 with 1 Axes>"
      ]
     },
     "metadata": {
      "needs_background": "light"
     },
     "output_type": "display_data"
    },
    {
     "data": {
      "image/png": "[encoded data removed]",
      "text/plain": [
       "<Figure size 432x288 with 1 Axes>"
      ]
     },
     "metadata": {
      "needs_background": "light"
     },
     "output_type": "display_data"
    },
    {
     "data": {
      "image/png": "[encoded data removed]",
      "text/plain": [
       "<Figure size 432x288 with 1 Axes>"
      ]
     },
     "metadata": {
      "needs_background": "light"
     },
     "output_type": "display_data"
    },
    {
     "data": {
      "image/png": "[encoded data removed]",
      "text/plain": [
       "<Figure size 432x288 with 1 Axes>"
      ]
     },
     "metadata": {
      "needs_background": "light"
     },
     "output_type": "display_data"
    },
    {
     "data": {
      "image/png": "[encoded data removed]",
      "text/plain": [
       "<Figure size 432x288 with 1 Axes>"
      ]
     },
     "metadata": {
      "needs_background": "light"
     },
     "output_type": "display_data"
    },
    {
     "data": {
      "image/png": "[encoded data removed]",
      "text/plain": [
       "<Figure size 432x288 with 1 Axes>"
      ]
     },
     "metadata": {
      "needs_background": "light"
     },
     "output_type": "display_data"
    },
    {
     "data": {
      "image/png": "[encoded data removed]",
      "text/plain": [
       "<Figure size 432x288 with 1 Axes>"
      ]
     },
     "metadata": {
      "needs_background": "light"
     },
     "output_type": "display_data"
    },
    {
     "data": {
      "image/png": "[encoded data removed]",
      "text/plain": [
       "<Figure size 432x288 with 1 Axes>"
      ]
     },
     "metadata": {
      "needs_background": "light"
     },
     "output_type": "display_data"
    },
    {
     "data": {
      "image/png": "[encoded data removed]",
      "text/plain": [
       "<Figure size 432x288 with 1 Axes>"
      ]
     },
     "metadata": {
      "needs_background": "light"
     },
     "output_type": "display_data"
    },
    {
     "data": {
      "image/png": "[encoded data removed]",
      "text/plain": [
       "<Figure size 432x288 with 1 Axes>"
      ]
     },
     "metadata": {
      "needs_background": "light"
     },
     "output_type": "display_data"
    },
    {
     "data": {
      "image/png": "[encoded data removed]",
      "text/plain": [
       "<Figure size 432x288 with 1 Axes>"
      ]
     },
     "metadata": {
      "needs_background": "light"
     },
     "output_type": "display_data"
    },
    {
     "data": {
      "image/png": "[encoded data removed]",
      "text/plain": [
       "<Figure size 432x288 with 1 Axes>"
      ]
     },
     "metadata": {
      "needs_background": "light"
     },
     "output_type": "display_data"
    },
    {
     "data": {
      "image/png": "[encoded data removed]",
      "text/plain": [
       "<Figure size 432x288 with 1 Axes>"
      ]
     },
     "metadata": {
      "needs_background": "light"
     },
     "output_type": "display_data"
    },
    {
     "data": {
      "image/png": "[encoded data removed]",
      "text/plain": [
       "<Figure size 432x288 with 1 Axes>"
      ]
     },
     "metadata": {
      "needs_background": "light"
     },
     "output_type": "display_data"
    },
    {
     "data": {
      "image/png": "[encoded data removed]",
      "text/plain": [
       "<Figure size 432x288 with 1 Axes>"
      ]
     },
     "metadata": {
      "needs_background": "light"
     },
     "output_type": "display_data"
    },
    {
     "data": {
      "image/png": "[encoded data removed]",
      "text/plain": [
       "<Figure size 432x288 with 1 Axes>"
      ]
     },
     "metadata": {
      "needs_background": "light"
     },
     "output_type": "display_data"
    },
    {
     "data": {
      "image/png": "[encoded data removed]",
      "text/plain": [
       "<Figure size 432x288 with 1 Axes>"
      ]
     },
     "metadata": {
      "needs_background": "light"
     },
     "output_type": "display_data"
    },
    {
     "data": {
      "image/png": "[encoded data removed]",
      "text/plain": [
       "<Figure size 432x288 with 1 Axes>"
      ]
     },
     "metadata": {
      "needs_background": "light"
     },
     "output_type": "display_data"
    },
    {
     "data": {
      "image/png": "[encoded data removed]",
      "text/plain": [
       "<Figure size 432x288 with 1 Axes>"
      ]
     },
     "metadata": {
      "needs_background": "light"
     },
     "output_type": "display_data"
    },
    {
     "data": {
      "image/png": "[encoded data removed]",
      "text/plain": [
       "<Figure size 432x288 with 1 Axes>"
      ]
     },
     "metadata": {
      "needs_background": "light"
     },
     "output_type": "display_data"
    },
    {
     "data": {
      "image/png": "[encoded data removed]",
      "text/plain": [
       "<Figure size 432x288 with 1 Axes>"
      ]
     },
     "metadata": {
      "needs_background": "light"
     },
     "output_type": "display_data"
    },
    {
     "data": {
      "image/png": "[encoded data removed]",
      "text/plain": [
       "<Figure size 432x288 with 1 Axes>"
      ]
     },
     "metadata": {
      "needs_background": "light"
     },
     "output_type": "display_data"
    },
    {
     "data": {
      "image/png": "[encoded data removed]",
      "text/plain": [
       "<Figure size 432x288 with 1 Axes>"
      ]
     },
     "metadata": {
      "needs_background": "light"
     },
     "output_type": "display_data"
    },
    {
     "data": {
      "image/png": "[encoded data removed]",
      "text/plain": [
       "<Figure size 432x288 with 1 Axes>"
      ]
     },
     "metadata": {
      "needs_background": "light"
     },
     "output_type": "display_data"
    },
    {
     "data": {
      "image/png": "[encoded data removed]",
      "text/plain": [
       "<Figure size 432x288 with 1 Axes>"
      ]
     },
     "metadata": {
      "needs_background": "light"
     },
     "output_type": "display_data"
    },
    {
     "data": {
      "image/png": "[encoded data removed]",
      "text/plain": [
       "<Figure size 432x288 with 1 Axes>"
      ]
     },
     "metadata": {
      "needs_background": "light"
     },
     "output_type": "display_data"
    },
    {
     "data": {
      "image/png": "[encoded data removed]",
      "text/plain": [
       "<Figure size 432x288 with 1 Axes>"
      ]
     },
     "metadata": {
      "needs_background": "light"
     },
     "output_type": "display_data"
    },
    {
     "data": {
      "image/png": "[encoded data removed]",
      "text/plain": [
       "<Figure size 432x288 with 1 Axes>"
      ]
     },
     "metadata": {
      "needs_background": "light"
     },
     "output_type": "display_data"
    },
    {
     "data": {
      "image/png": "[encoded data removed]",
      "text/plain": [
       "<Figure size 432x288 with 1 Axes>"
      ]
     },
     "metadata": {
      "needs_background": "light"
     },
     "output_type": "display_data"
    },
    {
     "data": {
      "image/png": "[encoded data removed]",
      "text/plain": [
       "<Figure size 432x288 with 1 Axes>"
      ]
     },
     "metadata": {
      "needs_background": "light"
     },
     "output_type": "display_data"
    },
    {
     "data": {
      "image/png": "[encoded data removed]",
      "text/plain": [
       "<Figure size 432x288 with 1 Axes>"
      ]
     },
     "metadata": {
      "needs_background": "light"
     },
     "output_type": "display_data"
    },
    {
     "data": {
      "image/png": "[encoded data removed]",
      "text/plain": [
       "<Figure size 432x288 with 1 Axes>"
      ]
     },
     "metadata": {
      "needs_background": "light"
     },
     "output_type": "display_data"
    },
    {
     "data": {
      "image/png": "[encoded data removed]",
      "text/plain": [
       "<Figure size 432x288 with 1 Axes>"
      ]
     },
     "metadata": {
      "needs_background": "light"
     },
     "output_type": "display_data"
    },
    {
     "data": {
      "image/png": "[encoded data removed]",
      "text/plain": [
       "<Figure size 432x288 with 1 Axes>"
      ]
     },
     "metadata": {
      "needs_background": "light"
     },
     "output_type": "display_data"
    },
    {
     "data": {
      "image/png": "[encoded data removed]",
      "text/plain": [
       "<Figure size 432x288 with 1 Axes>"
      ]
     },
     "metadata": {
      "needs_background": "light"
     },
     "output_type": "display_data"
    },
    {
     "data": {
      "image/png": "[encoded data removed]",
      "text/plain": [
       "<Figure size 432x288 with 1 Axes>"
      ]
     },
     "metadata": {
      "needs_background": "light"
     },
     "output_type": "display_data"
    },
    {
     "data": {
      "image/png": "[encoded data removed]",
      "text/plain": [
       "<Figure size 432x288 with 1 Axes>"
      ]
     },
     "metadata": {
      "needs_background": "light"
     },
     "output_type": "display_data"
    },
    {
     "data": {
      "image/png": "[encoded data removed]",
      "text/plain": [
       "<Figure size 432x288 with 1 Axes>"
      ]
     },
     "metadata": {
      "needs_background": "light"
     },
     "output_type": "display_data"
    },
    {
     "data": {
      "image/png": "[encoded data removed]",
      "text/plain": [
       "<Figure size 432x288 with 1 Axes>"
      ]
     },
     "metadata": {
      "needs_background": "light"
     },
     "output_type": "display_data"
    },
    {
     "data": {
      "image/png": "[encoded data removed]",
      "text/plain": [
       "<Figure size 432x288 with 1 Axes>"
      ]
     },
     "metadata": {
      "needs_background": "light"
     },
     "output_type": "display_data"
    },
    {
     "data": {
      "image/png": "[encoded data removed]",
      "text/plain": [
       "<Figure size 432x288 with 1 Axes>"
      ]
     },
     "metadata": {
      "needs_background": "light"
     },
     "output_type": "display_data"
    },
    {
     "data": {
      "image/png": "[encoded data removed]",
      "text/plain": [
       "<Figure size 432x288 with 1 Axes>"
      ]
     },
     "metadata": {
      "needs_background": "light"
     },
     "output_type": "display_data"
    },
    {
     "data": {
      "image/png": "[encoded data removed]",
      "text/plain": [
       "<Figure size 432x288 with 1 Axes>"
      ]
     },
     "metadata": {
      "needs_background": "light"
     },
     "output_type": "display_data"
    },
    {
     "data": {
      "image/png": "[encoded data removed]",
      "text/plain": [
       "<Figure size 432x288 with 1 Axes>"
      ]
     },
     "metadata": {
      "needs_background": "light"
     },
     "output_type": "display_data"
    },
    {
     "data": {
      "image/png": "[encoded data removed]",
      "text/plain": [
       "<Figure size 432x288 with 1 Axes>"
      ]
     },
     "metadata": {
      "needs_background": "light"
     },
     "output_type": "display_data"
    },
    {
     "data": {
      "image/png": "[encoded data removed]",
      "text/plain": [
       "<Figure size 432x288 with 1 Axes>"
      ]
     },
     "metadata": {
      "needs_background": "light"
     },
     "output_type": "display_data"
    }
   ],
   "source": [
    "columns = train.drop('ward', axis=1).columns\n",
    "for index in range(len(columns)):\n",
    "    train.boxplot(column=[columns[index]])\n",
    "    plt.show()"
   ]
  },
  {
   "cell_type": "code",
   "execution_count": null,
   "metadata": {},
   "outputs": [],
   "source": [
    "target = train['target_pct_vunerable']\n",
    "\n",
    "train['separateur'] = 0\n",
    "test['separateur']  = 1\n",
    "\n",
    "train, test = train.align(test, join = 'inner', axis = 1)\n",
    "\n",
    "fullDataSet = pd.concat([train, test])"
   ]
  },
  {
   "cell_type": "code",
   "execution_count": 36,
   "metadata": {},
   "outputs": [],
   "source": [
    "fullDataSet['household_size'] = fullDataSet.total_individuals/fullDataSet.total_households\n",
    "\n",
    "fullDataSet['gf_1'] = fullDataSet['dw_01'] * fullDataSet['psa_01']\n",
    "fullDataSet['gf_2'] = fullDataSet['gf_1'] * fullDataSet['psa_00']\n",
    "fullDataSet['gf_3'] = fullDataSet['gf_1'] * fullDataSet['psa_02']\n",
    "fullDataSet['gf_4'] = fullDataSet['gf_1'] * fullDataSet['psa_03']\n",
    "fullDataSet['gf_5'] = fullDataSet['gf_1'] * fullDataSet['gf_2']\n",
    "fullDataSet['gf_6'] = fullDataSet['gf_5'] * fullDataSet['gf_2']\n",
    "\n",
    "fullDataSet['dw_01_2']  = fullDataSet['dw_01'] ** 2\n",
    "fullDataSet['psa_00_2'] = fullDataSet['psa_00'] ** 2\n",
    "\n",
    "luxury_stuff     = ['psa_01','car_01','stv_00']\n",
    "not_luxury_stuff = ['psa_00','car_00','stv_01']\n",
    "\n",
    "fullDataSet['luxury_stuff']       = fullDataSet[luxury_stuff].sum(axis=1)\n",
    "fullDataSet['not_luxury_stuff']   = fullDataSet[not_luxury_stuff].sum(axis=1)\n",
    "fullDataSet['a_luxury_stuff']     = fullDataSet[luxury_stuff].mean(axis=1)\n",
    "fullDataSet['a_not_luxury_stuff'] = fullDataSet[not_luxury_stuff].mean(axis=1)"
   ]
  },
  {
   "cell_type": "code",
   "execution_count": 43,
   "metadata": {},
   "outputs": [
    {
     "name": "stderr",
     "output_type": "stream",
     "text": [
      "/home/fouzo/.local/lib/python3.8/site-packages/pandas/core/frame.py:4163: SettingWithCopyWarning: \n",
      "A value is trying to be set on a copy of a slice from a DataFrame\n",
      "\n",
      "See the caveats in the documentation: https://pandas.pydata.org/pandas-docs/stable/user_guide/indexing.html#returning-a-view-versus-a-copy\n",
      "  return super().drop(\n"
     ]
    }
   ],
   "source": [
    "train = fullDataSet[fullDataSet.separateur == 0]\n",
    "test  = fullDataSet[fullDataSet.separateur == 1]\n",
    "\n",
    "train.drop(columns=['separateur'], axis = 1, inplace = True)\n",
    "test.drop(columns=['separateur'], axis = 1, inplace = True)"
   ]
  },
  {
   "cell_type": "code",
   "execution_count": 107,
   "metadata": {},
   "outputs": [],
   "source": [
    "train_cp = train.drop(columns=['ward', 'dw_13', 'dw_12', 'lan_13', 'psa_03'], axis=1)\n",
    "test_cp  = test.drop(columns=['ward', 'dw_13', 'dw_12', 'lan_13', 'psa_03'], axis=1)"
   ]
  },
  {
   "cell_type": "code",
   "execution_count": 108,
   "metadata": {},
   "outputs": [],
   "source": [
    "km = KMeans(150, random_state=2020)\n",
    "km = km.fit(train_cp)\n",
    "\n",
    "train_cp[\"km\"] = km.predict(train_cp)\n",
    "test_cp[\"km\"]  = km.predict(test_cp)\n"
   ]
  },
  {
   "cell_type": "code",
   "execution_count": 109,
   "metadata": {},
   "outputs": [],
   "source": [
    "train_cp = (train_cp - train_cp.mean())/train_cp.std()\n",
    "\n",
    "test_cp = (test_cp - test_cp.mean())/test_cp.std()"
   ]
  },
  {
   "cell_type": "code",
   "execution_count": 111,
   "metadata": {},
   "outputs": [],
   "source": [
    "X = train_cp.copy()\n",
    "y = target.copy()\n",
    "\n",
    "X_train, X_test, y_train, y_test   = train_test_split(X, y, test_size=0.25, random_state=2020)\n",
    "\n",
    "X_train, X_valid, y_train, y_valid = train_test_split(X_train, y_train, test_size=0.25, random_state=2020)"
   ]
  },
  {
   "cell_type": "code",
   "execution_count": 112,
   "metadata": {},
   "outputs": [],
   "source": [
    "def perform_model(X_train, y_train,X_valid, y_valid,X_test, y_test):\n",
    "    model = CatBoostRegressor(\n",
    "        random_seed = 400,\n",
    "        loss_function = 'RMSE',\n",
    "        iterations=400,\n",
    "    )\n",
    "    \n",
    "    model.fit(\n",
    "        X_train, y_train,\n",
    "        eval_set=(X_valid, y_valid),\n",
    "        verbose=False\n",
    "    )\n",
    "    \n",
    "    print(\"RMSE on training data: \"+ model.score(X_train, y_train).astype(str))\n",
    "    print(\"RMSE on test data: \"+ model.score(X_test, y_test).astype(str))\n",
    "    \n",
    "    return model"
   ]
  },
  {
   "cell_type": "code",
   "execution_count": 113,
   "metadata": {},
   "outputs": [
    {
     "name": "stdout",
     "output_type": "stream",
     "text": [
      "RMSE on training data: 0.9794581051047002\n",
      "RMSE on test data: 0.7474042558990217\n"
     ]
    }
   ],
   "source": [
    "model = perform_model(X_train, y_train,X_valid, y_valid,X_test, y_test)"
   ]
  },
  {
   "cell_type": "code",
   "execution_count": 114,
   "metadata": {},
   "outputs": [],
   "source": [
    "feature_score = pd.DataFrame(list(zip(X.dtypes.index, model.get_feature_importance(Pool(X, label=y)))),\n",
    "                columns=['Feature','Score'])\n",
    "\n",
    "feature_score = feature_score.sort_values(by='Score', ascending=False, inplace=False, kind='quicksort', na_position='last')"
   ]
  },
  {
   "cell_type": "code",
   "execution_count": 115,
   "metadata": {},
   "outputs": [
    {
     "data": {
      "text/html": [
       "<div>\n",
       "<style scoped>\n",
       "    .dataframe tbody tr th:only-of-type {\n",
       "        vertical-align: middle;\n",
       "    }\n",
       "\n",
       "    .dataframe tbody tr th {\n",
       "        vertical-align: top;\n",
       "    }\n",
       "\n",
       "    .dataframe thead th {\n",
       "        text-align: right;\n",
       "    }\n",
       "</style>\n",
       "<table border=\"1\" class=\"dataframe\">\n",
       "  <thead>\n",
       "    <tr style=\"text-align: right;\">\n",
       "      <th></th>\n",
       "      <th>Feature</th>\n",
       "      <th>Score</th>\n",
       "    </tr>\n",
       "  </thead>\n",
       "  <tbody>\n",
       "    <tr>\n",
       "      <th>44</th>\n",
       "      <td>household_size</td>\n",
       "      <td>5.899018</td>\n",
       "    </tr>\n",
       "    <tr>\n",
       "      <th>22</th>\n",
       "      <td>lln_00</td>\n",
       "      <td>4.297998</td>\n",
       "    </tr>\n",
       "    <tr>\n",
       "      <th>14</th>\n",
       "      <td>psa_00</td>\n",
       "      <td>3.868434</td>\n",
       "    </tr>\n",
       "    <tr>\n",
       "      <th>17</th>\n",
       "      <td>psa_04</td>\n",
       "      <td>3.551237</td>\n",
       "    </tr>\n",
       "    <tr>\n",
       "      <th>18</th>\n",
       "      <td>stv_00</td>\n",
       "      <td>3.410642</td>\n",
       "    </tr>\n",
       "    <tr>\n",
       "      <th>27</th>\n",
       "      <td>lan_03</td>\n",
       "      <td>3.387363</td>\n",
       "    </tr>\n",
       "    <tr>\n",
       "      <th>31</th>\n",
       "      <td>lan_07</td>\n",
       "      <td>3.334761</td>\n",
       "    </tr>\n",
       "    <tr>\n",
       "      <th>15</th>\n",
       "      <td>psa_01</td>\n",
       "      <td>3.269928</td>\n",
       "    </tr>\n",
       "    <tr>\n",
       "      <th>30</th>\n",
       "      <td>lan_06</td>\n",
       "      <td>3.064629</td>\n",
       "    </tr>\n",
       "    <tr>\n",
       "      <th>43</th>\n",
       "      <td>lgt_00</td>\n",
       "      <td>2.927634</td>\n",
       "    </tr>\n",
       "    <tr>\n",
       "      <th>29</th>\n",
       "      <td>lan_05</td>\n",
       "      <td>2.824308</td>\n",
       "    </tr>\n",
       "    <tr>\n",
       "      <th>50</th>\n",
       "      <td>gf_6</td>\n",
       "      <td>2.680999</td>\n",
       "    </tr>\n",
       "    <tr>\n",
       "      <th>38</th>\n",
       "      <td>pg_00</td>\n",
       "      <td>2.665732</td>\n",
       "    </tr>\n",
       "    <tr>\n",
       "      <th>2</th>\n",
       "      <td>dw_00</td>\n",
       "      <td>2.596313</td>\n",
       "    </tr>\n",
       "    <tr>\n",
       "      <th>28</th>\n",
       "      <td>lan_04</td>\n",
       "      <td>2.552050</td>\n",
       "    </tr>\n",
       "    <tr>\n",
       "      <th>36</th>\n",
       "      <td>lan_12</td>\n",
       "      <td>2.354219</td>\n",
       "    </tr>\n",
       "    <tr>\n",
       "      <th>46</th>\n",
       "      <td>gf_2</td>\n",
       "      <td>2.291342</td>\n",
       "    </tr>\n",
       "    <tr>\n",
       "      <th>49</th>\n",
       "      <td>gf_5</td>\n",
       "      <td>2.226335</td>\n",
       "    </tr>\n",
       "    <tr>\n",
       "      <th>45</th>\n",
       "      <td>gf_1</td>\n",
       "      <td>2.167338</td>\n",
       "    </tr>\n",
       "    <tr>\n",
       "      <th>21</th>\n",
       "      <td>car_01</td>\n",
       "      <td>1.914290</td>\n",
       "    </tr>\n",
       "    <tr>\n",
       "      <th>35</th>\n",
       "      <td>lan_11</td>\n",
       "      <td>1.907629</td>\n",
       "    </tr>\n",
       "    <tr>\n",
       "      <th>23</th>\n",
       "      <td>lln_01</td>\n",
       "      <td>1.844626</td>\n",
       "    </tr>\n",
       "    <tr>\n",
       "      <th>10</th>\n",
       "      <td>dw_08</td>\n",
       "      <td>1.608058</td>\n",
       "    </tr>\n",
       "    <tr>\n",
       "      <th>20</th>\n",
       "      <td>car_00</td>\n",
       "      <td>1.534395</td>\n",
       "    </tr>\n",
       "    <tr>\n",
       "      <th>39</th>\n",
       "      <td>pg_01</td>\n",
       "      <td>1.467550</td>\n",
       "    </tr>\n",
       "    <tr>\n",
       "      <th>52</th>\n",
       "      <td>psa_00_2</td>\n",
       "      <td>1.444162</td>\n",
       "    </tr>\n",
       "    <tr>\n",
       "      <th>25</th>\n",
       "      <td>lan_01</td>\n",
       "      <td>1.432224</td>\n",
       "    </tr>\n",
       "    <tr>\n",
       "      <th>54</th>\n",
       "      <td>not_luxury_stuff</td>\n",
       "      <td>1.281446</td>\n",
       "    </tr>\n",
       "    <tr>\n",
       "      <th>33</th>\n",
       "      <td>lan_09</td>\n",
       "      <td>1.241230</td>\n",
       "    </tr>\n",
       "    <tr>\n",
       "      <th>24</th>\n",
       "      <td>lan_00</td>\n",
       "      <td>1.213882</td>\n",
       "    </tr>\n",
       "    <tr>\n",
       "      <th>3</th>\n",
       "      <td>dw_01</td>\n",
       "      <td>1.213772</td>\n",
       "    </tr>\n",
       "    <tr>\n",
       "      <th>47</th>\n",
       "      <td>gf_3</td>\n",
       "      <td>1.159355</td>\n",
       "    </tr>\n",
       "    <tr>\n",
       "      <th>48</th>\n",
       "      <td>gf_4</td>\n",
       "      <td>1.133323</td>\n",
       "    </tr>\n",
       "    <tr>\n",
       "      <th>8</th>\n",
       "      <td>dw_06</td>\n",
       "      <td>1.104058</td>\n",
       "    </tr>\n",
       "    <tr>\n",
       "      <th>32</th>\n",
       "      <td>lan_08</td>\n",
       "      <td>1.076612</td>\n",
       "    </tr>\n",
       "    <tr>\n",
       "      <th>51</th>\n",
       "      <td>dw_01_2</td>\n",
       "      <td>1.069351</td>\n",
       "    </tr>\n",
       "    <tr>\n",
       "      <th>5</th>\n",
       "      <td>dw_03</td>\n",
       "      <td>1.065445</td>\n",
       "    </tr>\n",
       "    <tr>\n",
       "      <th>4</th>\n",
       "      <td>dw_02</td>\n",
       "      <td>1.026928</td>\n",
       "    </tr>\n",
       "    <tr>\n",
       "      <th>1</th>\n",
       "      <td>total_individuals</td>\n",
       "      <td>1.010244</td>\n",
       "    </tr>\n",
       "    <tr>\n",
       "      <th>0</th>\n",
       "      <td>total_households</td>\n",
       "      <td>0.984686</td>\n",
       "    </tr>\n",
       "    <tr>\n",
       "      <th>40</th>\n",
       "      <td>pg_02</td>\n",
       "      <td>0.965681</td>\n",
       "    </tr>\n",
       "    <tr>\n",
       "      <th>26</th>\n",
       "      <td>lan_02</td>\n",
       "      <td>0.960444</td>\n",
       "    </tr>\n",
       "    <tr>\n",
       "      <th>6</th>\n",
       "      <td>dw_04</td>\n",
       "      <td>0.942806</td>\n",
       "    </tr>\n",
       "    <tr>\n",
       "      <th>42</th>\n",
       "      <td>pg_04</td>\n",
       "      <td>0.928787</td>\n",
       "    </tr>\n",
       "    <tr>\n",
       "      <th>11</th>\n",
       "      <td>dw_09</td>\n",
       "      <td>0.898700</td>\n",
       "    </tr>\n",
       "    <tr>\n",
       "      <th>9</th>\n",
       "      <td>dw_07</td>\n",
       "      <td>0.898532</td>\n",
       "    </tr>\n",
       "    <tr>\n",
       "      <th>41</th>\n",
       "      <td>pg_03</td>\n",
       "      <td>0.888002</td>\n",
       "    </tr>\n",
       "    <tr>\n",
       "      <th>13</th>\n",
       "      <td>dw_11</td>\n",
       "      <td>0.710492</td>\n",
       "    </tr>\n",
       "    <tr>\n",
       "      <th>19</th>\n",
       "      <td>stv_01</td>\n",
       "      <td>0.706015</td>\n",
       "    </tr>\n",
       "    <tr>\n",
       "      <th>34</th>\n",
       "      <td>lan_10</td>\n",
       "      <td>0.672542</td>\n",
       "    </tr>\n",
       "    <tr>\n",
       "      <th>55</th>\n",
       "      <td>a_luxury_stuff</td>\n",
       "      <td>0.661388</td>\n",
       "    </tr>\n",
       "    <tr>\n",
       "      <th>16</th>\n",
       "      <td>psa_02</td>\n",
       "      <td>0.646990</td>\n",
       "    </tr>\n",
       "    <tr>\n",
       "      <th>7</th>\n",
       "      <td>dw_05</td>\n",
       "      <td>0.645403</td>\n",
       "    </tr>\n",
       "    <tr>\n",
       "      <th>37</th>\n",
       "      <td>lan_14</td>\n",
       "      <td>0.596660</td>\n",
       "    </tr>\n",
       "    <tr>\n",
       "      <th>57</th>\n",
       "      <td>km</td>\n",
       "      <td>0.590330</td>\n",
       "    </tr>\n",
       "    <tr>\n",
       "      <th>56</th>\n",
       "      <td>a_not_luxury_stuff</td>\n",
       "      <td>0.572760</td>\n",
       "    </tr>\n",
       "    <tr>\n",
       "      <th>53</th>\n",
       "      <td>luxury_stuff</td>\n",
       "      <td>0.360469</td>\n",
       "    </tr>\n",
       "    <tr>\n",
       "      <th>12</th>\n",
       "      <td>dw_10</td>\n",
       "      <td>0.250451</td>\n",
       "    </tr>\n",
       "  </tbody>\n",
       "</table>\n",
       "</div>"
      ],
      "text/plain": [
       "               Feature     Score\n",
       "44      household_size  5.899018\n",
       "22              lln_00  4.297998\n",
       "14              psa_00  3.868434\n",
       "17              psa_04  3.551237\n",
       "18              stv_00  3.410642\n",
       "27              lan_03  3.387363\n",
       "31              lan_07  3.334761\n",
       "15              psa_01  3.269928\n",
       "30              lan_06  3.064629\n",
       "43              lgt_00  2.927634\n",
       "29              lan_05  2.824308\n",
       "50                gf_6  2.680999\n",
       "38               pg_00  2.665732\n",
       "2                dw_00  2.596313\n",
       "28              lan_04  2.552050\n",
       "36              lan_12  2.354219\n",
       "46                gf_2  2.291342\n",
       "49                gf_5  2.226335\n",
       "45                gf_1  2.167338\n",
       "21              car_01  1.914290\n",
       "35              lan_11  1.907629\n",
       "23              lln_01  1.844626\n",
       "10               dw_08  1.608058\n",
       "20              car_00  1.534395\n",
       "39               pg_01  1.467550\n",
       "52            psa_00_2  1.444162\n",
       "25              lan_01  1.432224\n",
       "54    not_luxury_stuff  1.281446\n",
       "33              lan_09  1.241230\n",
       "24              lan_00  1.213882\n",
       "3                dw_01  1.213772\n",
       "47                gf_3  1.159355\n",
       "48                gf_4  1.133323\n",
       "8                dw_06  1.104058\n",
       "32              lan_08  1.076612\n",
       "51             dw_01_2  1.069351\n",
       "5                dw_03  1.065445\n",
       "4                dw_02  1.026928\n",
       "1    total_individuals  1.010244\n",
       "0     total_households  0.984686\n",
       "40               pg_02  0.965681\n",
       "26              lan_02  0.960444\n",
       "6                dw_04  0.942806\n",
       "42               pg_04  0.928787\n",
       "11               dw_09  0.898700\n",
       "9                dw_07  0.898532\n",
       "41               pg_03  0.888002\n",
       "13               dw_11  0.710492\n",
       "19              stv_01  0.706015\n",
       "34              lan_10  0.672542\n",
       "55      a_luxury_stuff  0.661388\n",
       "16              psa_02  0.646990\n",
       "7                dw_05  0.645403\n",
       "37              lan_14  0.596660\n",
       "57                  km  0.590330\n",
       "56  a_not_luxury_stuff  0.572760\n",
       "53        luxury_stuff  0.360469\n",
       "12               dw_10  0.250451"
      ]
     },
     "execution_count": 115,
     "metadata": {},
     "output_type": "execute_result"
    }
   ],
   "source": [
    "feature_score"
   ]
  },
  {
   "cell_type": "code",
   "execution_count": 116,
   "metadata": {},
   "outputs": [
    {
     "data": {
      "text/plain": [
       "array(['household_size', 'lln_00', 'psa_00', 'psa_04', 'stv_00', 'lan_03',\n",
       "       'lan_07', 'psa_01', 'lan_06', 'lgt_00', 'lan_05', 'gf_6', 'pg_00',\n",
       "       'dw_00', 'lan_04'], dtype=object)"
      ]
     },
     "execution_count": 116,
     "metadata": {},
     "output_type": "execute_result"
    }
   ],
   "source": [
    "np.array(feature_score[feature_score['Score'] > 2.50].Feature)"
   ]
  },
  {
   "cell_type": "code",
   "execution_count": 117,
   "metadata": {},
   "outputs": [
    {
     "data": {
      "image/png": "[encoded data removed]",
      "text/plain": [
       "<Figure size 432x288 with 1 Axes>"
      ]
     },
     "metadata": {
      "needs_background": "light"
     },
     "output_type": "display_data"
    }
   ],
   "source": [
    "plt.bar(feature_score['Feature'], feature_score['Score'])\n",
    "plt.show()"
   ]
  },
  {
   "cell_type": "code",
   "execution_count": 118,
   "metadata": {},
   "outputs": [],
   "source": [
    "best_feature_1 = ['household_size', 'lln_00', 'psa_00', 'psa_04', 'stv_00', 'lan_03',\n",
    "       'lan_07', 'psa_01', 'lan_06', 'lgt_00', 'lan_05', 'gf_6', 'pg_00',\n",
    "       'dw_00', 'lan_04']"
   ]
  },
  {
   "cell_type": "code",
   "execution_count": 119,
   "metadata": {},
   "outputs": [
    {
     "name": "stdout",
     "output_type": "stream",
     "text": [
      "RMSE on training data: 0.9527600477749231\n",
      "RMSE on test data: 0.7466665215627508\n"
     ]
    }
   ],
   "source": [
    "model = perform_model(X_train[best_feature_1], y_train,X_valid[best_feature_1], y_valid,X_test[best_feature_1], y_test)"
   ]
  },
  {
   "cell_type": "code",
   "execution_count": null,
   "metadata": {},
   "outputs": [],
   "source": [
    "RMSE on training data: 0.987367823478132\n",
    "RMSE on test data: 0.7474485769303281"
   ]
  },
  {
   "cell_type": "code",
   "execution_count": 120,
   "metadata": {},
   "outputs": [],
   "source": [
    "pred_1 = model.predict(test_cp[best_feature_1])"
   ]
  },
  {
   "cell_type": "code",
   "execution_count": 121,
   "metadata": {},
   "outputs": [
    {
     "data": {
      "text/plain": [
       "array([ 7.8051468 , 21.05887514,  2.26227521, ...,  2.10829363,\n",
       "        5.34595035,  3.4941479 ])"
      ]
     },
     "execution_count": 121,
     "metadata": {},
     "output_type": "execute_result"
    }
   ],
   "source": [
    "pred_1"
   ]
  },
  {
   "cell_type": "code",
   "execution_count": 122,
   "metadata": {},
   "outputs": [
    {
     "data": {
      "text/html": [
       "<div>\n",
       "<style scoped>\n",
       "    .dataframe tbody tr th:only-of-type {\n",
       "        vertical-align: middle;\n",
       "    }\n",
       "\n",
       "    .dataframe tbody tr th {\n",
       "        vertical-align: top;\n",
       "    }\n",
       "\n",
       "    .dataframe thead th {\n",
       "        text-align: right;\n",
       "    }\n",
       "</style>\n",
       "<table border=\"1\" class=\"dataframe\">\n",
       "  <thead>\n",
       "    <tr style=\"text-align: right;\">\n",
       "      <th></th>\n",
       "      <th>ward</th>\n",
       "      <th>target_pct_vunerable</th>\n",
       "    </tr>\n",
       "  </thead>\n",
       "  <tbody>\n",
       "    <tr>\n",
       "      <th>0</th>\n",
       "      <td>00A93O0</td>\n",
       "      <td>13.145430</td>\n",
       "    </tr>\n",
       "    <tr>\n",
       "      <th>1</th>\n",
       "      <td>01V40KO</td>\n",
       "      <td>30.230701</td>\n",
       "    </tr>\n",
       "    <tr>\n",
       "      <th>2</th>\n",
       "      <td>01ZHVW0</td>\n",
       "      <td>4.170653</td>\n",
       "    </tr>\n",
       "    <tr>\n",
       "      <th>3</th>\n",
       "      <td>028YQJX</td>\n",
       "      <td>0.551644</td>\n",
       "    </tr>\n",
       "    <tr>\n",
       "      <th>4</th>\n",
       "      <td>02G8W11</td>\n",
       "      <td>0.374350</td>\n",
       "    </tr>\n",
       "  </tbody>\n",
       "</table>\n",
       "</div>"
      ],
      "text/plain": [
       "      ward  target_pct_vunerable\n",
       "0  00A93O0             13.145430\n",
       "1  01V40KO             30.230701\n",
       "2  01ZHVW0              4.170653\n",
       "3  028YQJX              0.551644\n",
       "4  02G8W11              0.374350"
      ]
     },
     "execution_count": 122,
     "metadata": {},
     "output_type": "execute_result"
    }
   ],
   "source": [
    "sub.head()"
   ]
  },
  {
   "cell_type": "code",
   "execution_count": 123,
   "metadata": {},
   "outputs": [],
   "source": [
    "sub['target_pct_vunerable'] = pd.DataFrame(np.absolute(pred_1))"
   ]
  },
  {
   "cell_type": "code",
   "execution_count": 124,
   "metadata": {},
   "outputs": [
    {
     "data": {
      "text/html": [
       "<div>\n",
       "<style scoped>\n",
       "    .dataframe tbody tr th:only-of-type {\n",
       "        vertical-align: middle;\n",
       "    }\n",
       "\n",
       "    .dataframe tbody tr th {\n",
       "        vertical-align: top;\n",
       "    }\n",
       "\n",
       "    .dataframe thead th {\n",
       "        text-align: right;\n",
       "    }\n",
       "</style>\n",
       "<table border=\"1\" class=\"dataframe\">\n",
       "  <thead>\n",
       "    <tr style=\"text-align: right;\">\n",
       "      <th></th>\n",
       "      <th>ward</th>\n",
       "      <th>target_pct_vunerable</th>\n",
       "    </tr>\n",
       "  </thead>\n",
       "  <tbody>\n",
       "    <tr>\n",
       "      <th>0</th>\n",
       "      <td>00A93O0</td>\n",
       "      <td>7.805147</td>\n",
       "    </tr>\n",
       "    <tr>\n",
       "      <th>1</th>\n",
       "      <td>01V40KO</td>\n",
       "      <td>21.058875</td>\n",
       "    </tr>\n",
       "    <tr>\n",
       "      <th>2</th>\n",
       "      <td>01ZHVW0</td>\n",
       "      <td>2.262275</td>\n",
       "    </tr>\n",
       "    <tr>\n",
       "      <th>3</th>\n",
       "      <td>028YQJX</td>\n",
       "      <td>2.968766</td>\n",
       "    </tr>\n",
       "    <tr>\n",
       "      <th>4</th>\n",
       "      <td>02G8W11</td>\n",
       "      <td>0.751649</td>\n",
       "    </tr>\n",
       "  </tbody>\n",
       "</table>\n",
       "</div>"
      ],
      "text/plain": [
       "      ward  target_pct_vunerable\n",
       "0  00A93O0              7.805147\n",
       "1  01V40KO             21.058875\n",
       "2  01ZHVW0              2.262275\n",
       "3  028YQJX              2.968766\n",
       "4  02G8W11              0.751649"
      ]
     },
     "execution_count": 124,
     "metadata": {},
     "output_type": "execute_result"
    }
   ],
   "source": [
    "sub.head()"
   ]
  },
  {
   "cell_type": "code",
   "execution_count": 125,
   "metadata": {},
   "outputs": [],
   "source": [
    "sub.to_csv('submission_stack_2.csv',index=False)"
   ]
  }
 ],
 "metadata": {
  "kernelspec": {
   "display_name": "Python 3",
   "language": "python",
   "name": "python3"
  },
  "language_info": {
   "codemirror_mode": {
    "name": "ipython",
    "version": 3
   },
   "file_extension": ".py",
   "mimetype": "text/x-python",
   "name": "python",
   "nbconvert_exporter": "python",
   "pygments_lexer": "ipython3",
   "version": "3.8.2"
  }
 },
 "nbformat": 4,
 "nbformat_minor": 4
}
